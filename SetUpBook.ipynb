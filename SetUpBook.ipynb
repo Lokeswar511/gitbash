{
 "cells": [
  {
   "cell_type": "code",
   "execution_count": 0,
   "metadata": {
    "application/vnd.databricks.v1+cell": {
     "cellMetadata": {
      "byteLimit": 2048000,
      "rowLimit": 10000
     },
     "inputWidgets": {},
     "nuid": "b49ac959-1039-4366-bb28-0730a9152808",
     "showTitle": false,
     "title": ""
    }
   },
   "outputs": [
    {
     "output_type": "stream",
     "name": "stdout",
     "output_type": "stream",
     "text": [
      "Out[1]: [FileInfo(path='dbfs:/FileStore/', name='FileStore/', size=0, modificationTime=0),\n FileInfo(path='dbfs:/Orders/', name='Orders/', size=0, modificationTime=0),\n FileInfo(path='dbfs:/People/', name='People/', size=0, modificationTime=0),\n FileInfo(path='dbfs:/Returns/', name='Returns/', size=0, modificationTime=0),\n FileInfo(path='dbfs:/databricks-datasets/', name='databricks-datasets/', size=0, modificationTime=0),\n FileInfo(path='dbfs:/databricks-results/', name='databricks-results/', size=0, modificationTime=0),\n FileInfo(path='dbfs:/mnt/', name='mnt/', size=0, modificationTime=0),\n FileInfo(path='dbfs:/project/', name='project/', size=0, modificationTime=0),\n FileInfo(path='dbfs:/stage.stage_store/', name='stage.stage_store/', size=0, modificationTime=0),\n FileInfo(path='dbfs:/user/', name='user/', size=0, modificationTime=0)]"
     ]
    }
   ],
   "source": [
    "dbutils.fs.ls('/')"
   ]
  },
  {
   "cell_type": "code",
   "execution_count": 0,
   "metadata": {
    "application/vnd.databricks.v1+cell": {
     "cellMetadata": {
      "byteLimit": 2048000,
      "rowLimit": 10000
     },
     "inputWidgets": {},
     "nuid": "fc5426b9-2ddf-4efd-9013-49c9224b0cbb",
     "showTitle": false,
     "title": ""
    }
   },
   "outputs": [],
   "source": [
    "#dbutils.fs.ls('/FileStore')"
   ]
  },
  {
   "cell_type": "code",
   "execution_count": 0,
   "metadata": {
    "application/vnd.databricks.v1+cell": {
     "cellMetadata": {
      "byteLimit": 2048000,
      "rowLimit": 10000
     },
     "inputWidgets": {},
     "nuid": "2fcd0377-8772-404c-924a-322296a18ab2",
     "showTitle": false,
     "title": ""
    }
   },
   "outputs": [],
   "source": [
    "reference_ds = 'dbfs:/FileStore/schema_control-3.csv'"
   ]
  },
  {
   "cell_type": "code",
   "execution_count": 0,
   "metadata": {
    "application/vnd.databricks.v1+cell": {
     "cellMetadata": {
      "byteLimit": 2048000,
      "rowLimit": 10000
     },
     "inputWidgets": {},
     "nuid": "5ef4ea69-eb24-48e1-93e2-f933297e0d42",
     "showTitle": false,
     "title": ""
    }
   },
   "outputs": [],
   "source": [
    "people_path = 'dbfs:/People/People_data.csv'\n",
    "\n",
    "orders_path = 'dbfs:/Orders/Orders_data.csv'\n",
    "\n",
    "returns_path = 'dbfs:/Returns/Returns_data.csv'"
   ]
  }
 ],
 "metadata": {
  "application/vnd.databricks.v1+notebook": {
   "dashboards": [],
   "language": "python",
   "notebookMetadata": {
    "pythonIndentUnit": 4
   },
   "notebookName": "SetUpBook",
   "widgets": {}
  }
 },
 "nbformat": 4,
 "nbformat_minor": 0
}
